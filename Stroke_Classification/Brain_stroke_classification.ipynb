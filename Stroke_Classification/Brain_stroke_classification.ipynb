{
 "cells": [
  {
   "cell_type": "code",
   "execution_count": 1,
   "id": "9852a875",
   "metadata": {},
   "outputs": [],
   "source": [
    "import pandas as pd\n",
    "import numpy as np\n",
    "import seaborn as sns\n",
    "import matplotlib.pyplot as plt\n",
    "\n",
    "from sklearn.model_selection import train_test_split\n",
    "from sklearn.preprocessing import StandardScaler\n",
    "from sklearn.linear_model import LogisticRegression\n",
    "from sklearn.ensemble import RandomForestClassifier\n",
    "from sklearn.model_selection import GridSearchCV\n",
    "from sklearn.tree import DecisionTreeClassifier\n",
    "\n",
    "from sklearn.metrics import classification_report, accuracy_score, confusion_matrix"
   ]
  },
  {
   "cell_type": "code",
   "execution_count": 2,
   "id": "e918e1f5",
   "metadata": {},
   "outputs": [],
   "source": [
    "df = pd.read_csv('full_data.csv')"
   ]
  },
  {
   "cell_type": "code",
   "execution_count": 3,
   "id": "04b9c0e0",
   "metadata": {},
   "outputs": [
    {
     "data": {
      "text/html": [
       "<div>\n",
       "<style scoped>\n",
       "    .dataframe tbody tr th:only-of-type {\n",
       "        vertical-align: middle;\n",
       "    }\n",
       "\n",
       "    .dataframe tbody tr th {\n",
       "        vertical-align: top;\n",
       "    }\n",
       "\n",
       "    .dataframe thead th {\n",
       "        text-align: right;\n",
       "    }\n",
       "</style>\n",
       "<table border=\"1\" class=\"dataframe\">\n",
       "  <thead>\n",
       "    <tr style=\"text-align: right;\">\n",
       "      <th></th>\n",
       "      <th>gender</th>\n",
       "      <th>age</th>\n",
       "      <th>hypertension</th>\n",
       "      <th>heart_disease</th>\n",
       "      <th>ever_married</th>\n",
       "      <th>work_type</th>\n",
       "      <th>Residence_type</th>\n",
       "      <th>avg_glucose_level</th>\n",
       "      <th>bmi</th>\n",
       "      <th>smoking_status</th>\n",
       "      <th>stroke</th>\n",
       "    </tr>\n",
       "  </thead>\n",
       "  <tbody>\n",
       "    <tr>\n",
       "      <th>0</th>\n",
       "      <td>Male</td>\n",
       "      <td>67.0</td>\n",
       "      <td>0</td>\n",
       "      <td>1</td>\n",
       "      <td>Yes</td>\n",
       "      <td>Private</td>\n",
       "      <td>Urban</td>\n",
       "      <td>228.69</td>\n",
       "      <td>36.6</td>\n",
       "      <td>formerly smoked</td>\n",
       "      <td>1</td>\n",
       "    </tr>\n",
       "    <tr>\n",
       "      <th>1</th>\n",
       "      <td>Male</td>\n",
       "      <td>80.0</td>\n",
       "      <td>0</td>\n",
       "      <td>1</td>\n",
       "      <td>Yes</td>\n",
       "      <td>Private</td>\n",
       "      <td>Rural</td>\n",
       "      <td>105.92</td>\n",
       "      <td>32.5</td>\n",
       "      <td>never smoked</td>\n",
       "      <td>1</td>\n",
       "    </tr>\n",
       "    <tr>\n",
       "      <th>2</th>\n",
       "      <td>Female</td>\n",
       "      <td>49.0</td>\n",
       "      <td>0</td>\n",
       "      <td>0</td>\n",
       "      <td>Yes</td>\n",
       "      <td>Private</td>\n",
       "      <td>Urban</td>\n",
       "      <td>171.23</td>\n",
       "      <td>34.4</td>\n",
       "      <td>smokes</td>\n",
       "      <td>1</td>\n",
       "    </tr>\n",
       "    <tr>\n",
       "      <th>3</th>\n",
       "      <td>Female</td>\n",
       "      <td>79.0</td>\n",
       "      <td>1</td>\n",
       "      <td>0</td>\n",
       "      <td>Yes</td>\n",
       "      <td>Self-employed</td>\n",
       "      <td>Rural</td>\n",
       "      <td>174.12</td>\n",
       "      <td>24.0</td>\n",
       "      <td>never smoked</td>\n",
       "      <td>1</td>\n",
       "    </tr>\n",
       "    <tr>\n",
       "      <th>4</th>\n",
       "      <td>Male</td>\n",
       "      <td>81.0</td>\n",
       "      <td>0</td>\n",
       "      <td>0</td>\n",
       "      <td>Yes</td>\n",
       "      <td>Private</td>\n",
       "      <td>Urban</td>\n",
       "      <td>186.21</td>\n",
       "      <td>29.0</td>\n",
       "      <td>formerly smoked</td>\n",
       "      <td>1</td>\n",
       "    </tr>\n",
       "  </tbody>\n",
       "</table>\n",
       "</div>"
      ],
      "text/plain": [
       "   gender   age  hypertension  heart_disease ever_married      work_type  \\\n",
       "0    Male  67.0             0              1          Yes        Private   \n",
       "1    Male  80.0             0              1          Yes        Private   \n",
       "2  Female  49.0             0              0          Yes        Private   \n",
       "3  Female  79.0             1              0          Yes  Self-employed   \n",
       "4    Male  81.0             0              0          Yes        Private   \n",
       "\n",
       "  Residence_type  avg_glucose_level   bmi   smoking_status  stroke  \n",
       "0          Urban             228.69  36.6  formerly smoked       1  \n",
       "1          Rural             105.92  32.5     never smoked       1  \n",
       "2          Urban             171.23  34.4           smokes       1  \n",
       "3          Rural             174.12  24.0     never smoked       1  \n",
       "4          Urban             186.21  29.0  formerly smoked       1  "
      ]
     },
     "execution_count": 3,
     "metadata": {},
     "output_type": "execute_result"
    }
   ],
   "source": [
    "df.head()"
   ]
  },
  {
   "cell_type": "code",
   "execution_count": 4,
   "id": "36803f8b",
   "metadata": {},
   "outputs": [
    {
     "data": {
      "text/plain": [
       "(4981, 11)"
      ]
     },
     "execution_count": 4,
     "metadata": {},
     "output_type": "execute_result"
    }
   ],
   "source": [
    "df.shape"
   ]
  },
  {
   "cell_type": "code",
   "execution_count": 5,
   "id": "26a79c03",
   "metadata": {},
   "outputs": [
    {
     "name": "stdout",
     "output_type": "stream",
     "text": [
      "<class 'pandas.core.frame.DataFrame'>\n",
      "RangeIndex: 4981 entries, 0 to 4980\n",
      "Data columns (total 11 columns):\n",
      " #   Column             Non-Null Count  Dtype  \n",
      "---  ------             --------------  -----  \n",
      " 0   gender             4981 non-null   object \n",
      " 1   age                4981 non-null   float64\n",
      " 2   hypertension       4981 non-null   int64  \n",
      " 3   heart_disease      4981 non-null   int64  \n",
      " 4   ever_married       4981 non-null   object \n",
      " 5   work_type          4981 non-null   object \n",
      " 6   Residence_type     4981 non-null   object \n",
      " 7   avg_glucose_level  4981 non-null   float64\n",
      " 8   bmi                4981 non-null   float64\n",
      " 9   smoking_status     4981 non-null   object \n",
      " 10  stroke             4981 non-null   int64  \n",
      "dtypes: float64(3), int64(3), object(5)\n",
      "memory usage: 428.2+ KB\n"
     ]
    }
   ],
   "source": [
    "df.info()"
   ]
  },
  {
   "cell_type": "code",
   "execution_count": 6,
   "id": "475982a8",
   "metadata": {},
   "outputs": [
    {
     "data": {
      "text/plain": [
       "gender               0\n",
       "age                  0\n",
       "hypertension         0\n",
       "heart_disease        0\n",
       "ever_married         0\n",
       "work_type            0\n",
       "Residence_type       0\n",
       "avg_glucose_level    0\n",
       "bmi                  0\n",
       "smoking_status       0\n",
       "stroke               0\n",
       "dtype: int64"
      ]
     },
     "execution_count": 6,
     "metadata": {},
     "output_type": "execute_result"
    }
   ],
   "source": [
    "df.isna().sum()"
   ]
  },
  {
   "cell_type": "code",
   "execution_count": 7,
   "id": "2180e991",
   "metadata": {},
   "outputs": [
    {
     "data": {
      "text/plain": [
       "Index(['gender', 'age', 'hypertension', 'heart_disease', 'ever_married',\n",
       "       'work_type', 'Residence_type', 'avg_glucose_level', 'bmi',\n",
       "       'smoking_status', 'stroke'],\n",
       "      dtype='object')"
      ]
     },
     "execution_count": 7,
     "metadata": {},
     "output_type": "execute_result"
    }
   ],
   "source": [
    "df.columns"
   ]
  },
  {
   "cell_type": "markdown",
   "id": "d6d46a9f",
   "metadata": {},
   "source": [
    "### Exploratory Data Analysis"
   ]
  },
  {
   "cell_type": "markdown",
   "id": "39004b56",
   "metadata": {},
   "source": [
    "#### 1. Count of each categories in a feature"
   ]
  },
  {
   "cell_type": "code",
   "execution_count": 8,
   "id": "8656b172",
   "metadata": {},
   "outputs": [
    {
     "data": {
      "image/png": "[encoded data removed]",
      "text/plain": [
       "<Figure size 432x288 with 1 Axes>"
      ]
     },
     "metadata": {
      "needs_background": "light"
     },
     "output_type": "display_data"
    },
    {
     "data": {
      "image/png": "[encoded data removed]",
      "text/plain": [
       "<Figure size 432x288 with 1 Axes>"
      ]
     },
     "metadata": {
      "needs_background": "light"
     },
     "output_type": "display_data"
    },
    {
     "data": {
      "image/png": "[encoded data removed]",
      "text/plain": [
       "<Figure size 432x288 with 1 Axes>"
      ]
     },
     "metadata": {
      "needs_background": "light"
     },
     "output_type": "display_data"
    },
    {
     "data": {
      "image/png": "[encoded data removed]",
      "text/plain": [
       "<Figure size 432x288 with 1 Axes>"
      ]
     },
     "metadata": {
      "needs_background": "light"
     },
     "output_type": "display_data"
    },
    {
     "data": {
      "image/png": "[encoded data removed]",
      "text/plain": [
       "<Figure size 432x288 with 1 Axes>"
      ]
     },
     "metadata": {
      "needs_background": "light"
     },
     "output_type": "display_data"
    },
    {
     "data": {
      "image/png": "[encoded data removed]",
      "text/plain": [
       "<Figure size 432x288 with 1 Axes>"
      ]
     },
     "metadata": {
      "needs_background": "light"
     },
     "output_type": "display_data"
    },
    {
     "data": {
      "image/png": "[encoded data removed]",
      "text/plain": [
       "<Figure size 432x288 with 1 Axes>"
      ]
     },
     "metadata": {
      "needs_background": "light"
     },
     "output_type": "display_data"
    },
    {
     "data": {
      "image/png": "[encoded data removed]",
      "text/plain": [
       "<Figure size 432x288 with 1 Axes>"
      ]
     },
     "metadata": {
      "needs_background": "light"
     },
     "output_type": "display_data"
    },
    {
     "data": {
      "image/png": "[encoded data removed]",
      "text/plain": [
       "<Figure size 432x288 with 1 Axes>"
      ]
     },
     "metadata": {
      "needs_background": "light"
     },
     "output_type": "display_data"
    },
    {
     "data": {
      "image/png": "[encoded data removed]",
      "text/plain": [
       "<Figure size 432x288 with 1 Axes>"
      ]
     },
     "metadata": {
      "needs_background": "light"
     },
     "output_type": "display_data"
    },
    {
     "data": {
      "image/png": "[encoded data removed]",
      "text/plain": [
       "<Figure size 432x288 with 1 Axes>"
      ]
     },
     "metadata": {
      "needs_background": "light"
     },
     "output_type": "display_data"
    }
   ],
   "source": [
    "c = 0\n",
    "for col in df.columns:\n",
    "    plt.figure(c)\n",
    "    c+=1\n",
    "    plot = sns.countplot(x = col , data = df)"
   ]
  },
  {
   "cell_type": "markdown",
   "id": "923b4595",
   "metadata": {},
   "source": [
    "#### 2. Plotting the hypertension with respect to gender and work_type"
   ]
  },
  {
   "cell_type": "code",
   "execution_count": 9,
   "id": "607c99d0",
   "metadata": {},
   "outputs": [
    {
     "data": {
      "image/png": "[encoded data removed]",
      "text/plain": [
       "<Figure size 683.25x360 with 2 Axes>"
      ]
     },
     "metadata": {
      "needs_background": "light"
     },
     "output_type": "display_data"
    }
   ],
   "source": [
    "count_cat = sns.catplot(x=\"gender\", hue=\"work_type\", col=\"hypertension\",\n",
    "                data= df, kind=\"count\",\n",
    "                height= 5, aspect=.8);"
   ]
  },
  {
   "cell_type": "markdown",
   "id": "b9fcf4b2",
   "metadata": {},
   "source": [
    "#### 3. Plotting the stroke with respect to work_type and smoking_status"
   ]
  },
  {
   "cell_type": "code",
   "execution_count": 10,
   "id": "5bc4b33d",
   "metadata": {},
   "outputs": [
    {
     "data": {
      "image/png": "[encoded data removed]",
      "text/plain": [
       "<Figure size 696.125x360 with 2 Axes>"
      ]
     },
     "metadata": {
      "needs_background": "light"
     },
     "output_type": "display_data"
    }
   ],
   "source": [
    "count_cat = sns.catplot(x = 'work_type', hue = 'smoking_status', col = 'stroke',\n",
    "                data= df, kind=\"count\",\n",
    "                height= 5, aspect=.8);"
   ]
  },
  {
   "cell_type": "markdown",
   "id": "47355fa0",
   "metadata": {},
   "source": [
    "#### 4. Violin plots to understand the effect of continous variable on Stroke"
   ]
  },
  {
   "cell_type": "code",
   "execution_count": 11,
   "id": "f6d9df27",
   "metadata": {},
   "outputs": [
    {
     "data": {
      "image/png": "[encoded data removed]",
      "text/plain": [
       "<Figure size 432x288 with 1 Axes>"
      ]
     },
     "metadata": {
      "needs_background": "light"
     },
     "output_type": "display_data"
    }
   ],
   "source": [
    "age_stroke = sns.violinplot(x = 'stroke', y = 'age', data = df)"
   ]
  },
  {
   "cell_type": "code",
   "execution_count": 12,
   "id": "6368e51a",
   "metadata": {},
   "outputs": [
    {
     "data": {
      "image/png": "[encoded data removed]",
      "text/plain": [
       "<Figure size 432x288 with 1 Axes>"
      ]
     },
     "metadata": {
      "needs_background": "light"
     },
     "output_type": "display_data"
    }
   ],
   "source": [
    "glucose_stroke = sns.violinplot(x = 'stroke', y = 'avg_glucose_level', data = df)"
   ]
  },
  {
   "cell_type": "markdown",
   "id": "d0920e0c",
   "metadata": {},
   "source": [
    "### Feature Engineering"
   ]
  },
  {
   "cell_type": "code",
   "execution_count": 13,
   "id": "6b4a69ff",
   "metadata": {},
   "outputs": [
    {
     "name": "stdout",
     "output_type": "stream",
     "text": [
      "(4981, 10) (4981,)\n"
     ]
    }
   ],
   "source": [
    "X = df.drop(['stroke'],axis=1)\n",
    "y = df['stroke']\n",
    "\n",
    "print(X.shape,y.shape)"
   ]
  },
  {
   "cell_type": "code",
   "execution_count": 14,
   "id": "b329133a",
   "metadata": {},
   "outputs": [
    {
     "name": "stdout",
     "output_type": "stream",
     "text": [
      "       age  hypertension  heart_disease  avg_glucose_level   bmi\n",
      "0     67.0             0              1             228.69  36.6\n",
      "1     80.0             0              1             105.92  32.5\n",
      "2     49.0             0              0             171.23  34.4\n",
      "3     79.0             1              0             174.12  24.0\n",
      "4     81.0             0              0             186.21  29.0\n",
      "...    ...           ...            ...                ...   ...\n",
      "4976  41.0             0              0              70.15  29.8\n",
      "4977  40.0             0              0             191.15  31.1\n",
      "4978  45.0             1              0              95.02  31.8\n",
      "4979  40.0             0              0              83.94  30.0\n",
      "4980  80.0             1              0              83.75  29.1\n",
      "\n",
      "[4981 rows x 5 columns]\n",
      "['gender', 'ever_married', 'work_type', 'Residence_type', 'smoking_status']\n"
     ]
    }
   ],
   "source": [
    "num_col = X.select_dtypes((int,float))\n",
    "cat_col = X.select_dtypes(object).columns.tolist()\n",
    "\n",
    "print(num_col)\n",
    "print(cat_col)"
   ]
  },
  {
   "cell_type": "markdown",
   "id": "ff47b32b",
   "metadata": {},
   "source": [
    "#### Applying encoding to all the categorical variables"
   ]
  },
  {
   "cell_type": "code",
   "execution_count": 15,
   "id": "798a96e2",
   "metadata": {},
   "outputs": [],
   "source": [
    "X_t = pd.get_dummies(X, columns = cat_col, drop_first = True)"
   ]
  },
  {
   "cell_type": "code",
   "execution_count": 16,
   "id": "c17d3070",
   "metadata": {},
   "outputs": [],
   "source": [
    "X_train, X_test, y_train, y_test = train_test_split(X_t, y, test_size=0.3, random_state=42)"
   ]
  },
  {
   "cell_type": "code",
   "execution_count": 17,
   "id": "c7acf70b",
   "metadata": {},
   "outputs": [],
   "source": [
    "# Scaling train and test data\n",
    "\n",
    "scaling = StandardScaler()\n",
    "X_train_scale = scaling.fit_transform(X_train)\n",
    "X_test_scale = scaling.transform(X_test)"
   ]
  },
  {
   "cell_type": "markdown",
   "id": "51d9da67",
   "metadata": {},
   "source": [
    "### Logistic Regression"
   ]
  },
  {
   "cell_type": "code",
   "execution_count": 18,
   "id": "2e2b1222",
   "metadata": {},
   "outputs": [
    {
     "data": {
      "text/plain": [
       "LogisticRegression()"
      ]
     },
     "execution_count": 18,
     "metadata": {},
     "output_type": "execute_result"
    }
   ],
   "source": [
    "log_reg = LogisticRegression()\n",
    "log_reg.fit(X_train_scale,y_train)"
   ]
  },
  {
   "cell_type": "code",
   "execution_count": 19,
   "id": "10477b78",
   "metadata": {},
   "outputs": [],
   "source": [
    "log_pred = log_reg.predict(X_test_scale)"
   ]
  },
  {
   "cell_type": "code",
   "execution_count": 20,
   "id": "b243fc43",
   "metadata": {},
   "outputs": [
    {
     "data": {
      "text/plain": [
       "0.9512335054503729"
      ]
     },
     "execution_count": 20,
     "metadata": {},
     "output_type": "execute_result"
    }
   ],
   "source": [
    "log_reg.score(X_train_scale,y_train)"
   ]
  },
  {
   "cell_type": "code",
   "execution_count": 21,
   "id": "898b26d1",
   "metadata": {},
   "outputs": [
    {
     "data": {
      "text/plain": [
       "0.9478260869565217"
      ]
     },
     "execution_count": 21,
     "metadata": {},
     "output_type": "execute_result"
    }
   ],
   "source": [
    "log_reg.score(X_test_scale,y_test)"
   ]
  },
  {
   "cell_type": "code",
   "execution_count": 22,
   "id": "af0f4eec",
   "metadata": {},
   "outputs": [
    {
     "data": {
      "text/plain": [
       "0.9478260869565217"
      ]
     },
     "execution_count": 22,
     "metadata": {},
     "output_type": "execute_result"
    }
   ],
   "source": [
    "accuracy_score(y_test,log_pred)"
   ]
  },
  {
   "cell_type": "markdown",
   "id": "b62b4d73",
   "metadata": {},
   "source": [
    "### Decision Tree"
   ]
  },
  {
   "cell_type": "code",
   "execution_count": 23,
   "id": "9eb31714",
   "metadata": {},
   "outputs": [],
   "source": [
    "tree_param = {'criterion' : ['gini', 'entropy', 'log_loss'], 'splitter' : ['best', 'random'], 'max_features' : ['sqrt', 'log2']}\n",
    "dec_tree = DecisionTreeClassifier()"
   ]
  },
  {
   "cell_type": "code",
   "execution_count": 24,
   "id": "2b6e59ae",
   "metadata": {},
   "outputs": [],
   "source": [
    "tree_grid = GridSearchCV(dec_tree,tree_param)"
   ]
  },
  {
   "cell_type": "code",
   "execution_count": 25,
   "id": "c527ea2c",
   "metadata": {},
   "outputs": [
    {
     "name": "stderr",
     "output_type": "stream",
     "text": [
      "E:\\Ana_conda\\envs\\test\\lib\\site-packages\\sklearn\\model_selection\\_validation.py:372: FitFailedWarning: \n",
      "20 fits failed out of a total of 60.\n",
      "The score on these train-test partitions for these parameters will be set to nan.\n",
      "If these failures are not expected, you can try to debug them by setting error_score='raise'.\n",
      "\n",
      "Below are more details about the failures:\n",
      "--------------------------------------------------------------------------------\n",
      "20 fits failed with the following error:\n",
      "Traceback (most recent call last):\n",
      "  File \"E:\\Ana_conda\\envs\\test\\lib\\site-packages\\sklearn\\model_selection\\_validation.py\", line 680, in _fit_and_score\n",
      "    estimator.fit(X_train, y_train, **fit_params)\n",
      "  File \"E:\\Ana_conda\\envs\\test\\lib\\site-packages\\sklearn\\tree\\_classes.py\", line 937, in fit\n",
      "    super().fit(\n",
      "  File \"E:\\Ana_conda\\envs\\test\\lib\\site-packages\\sklearn\\tree\\_classes.py\", line 352, in fit\n",
      "    criterion = CRITERIA_CLF[self.criterion](\n",
      "KeyError: 'log_loss'\n",
      "\n",
      "  warnings.warn(some_fits_failed_message, FitFailedWarning)\n",
      "E:\\Ana_conda\\envs\\test\\lib\\site-packages\\sklearn\\model_selection\\_search.py:969: UserWarning: One or more of the test scores are non-finite: [0.91766967 0.91250591 0.90992259 0.90677196 0.91537371 0.91394227\n",
      " 0.91164426 0.90820874        nan        nan        nan        nan]\n",
      "  warnings.warn(\n"
     ]
    },
    {
     "data": {
      "text/plain": [
       "GridSearchCV(estimator=DecisionTreeClassifier(),\n",
       "             param_grid={'criterion': ['gini', 'entropy', 'log_loss'],\n",
       "                         'max_features': ['sqrt', 'log2'],\n",
       "                         'splitter': ['best', 'random']})"
      ]
     },
     "execution_count": 25,
     "metadata": {},
     "output_type": "execute_result"
    }
   ],
   "source": [
    "tree_grid.fit(X_train_scale,y_train)"
   ]
  },
  {
   "cell_type": "code",
   "execution_count": 26,
   "id": "fb6b822b",
   "metadata": {},
   "outputs": [],
   "source": [
    "tree_pred = tree_grid.predict(X_test_scale)"
   ]
  },
  {
   "cell_type": "code",
   "execution_count": 27,
   "id": "1fdedcfb",
   "metadata": {},
   "outputs": [
    {
     "data": {
      "text/plain": [
       "0.9244147157190635"
      ]
     },
     "execution_count": 27,
     "metadata": {},
     "output_type": "execute_result"
    }
   ],
   "source": [
    "accuracy_score(y_test,tree_pred)"
   ]
  },
  {
   "cell_type": "markdown",
   "id": "f2520108",
   "metadata": {},
   "source": [
    "#### Best set of Decision Tree Parameters for this Dataset "
   ]
  },
  {
   "cell_type": "code",
   "execution_count": 28,
   "id": "229e686c",
   "metadata": {},
   "outputs": [
    {
     "name": "stdout",
     "output_type": "stream",
     "text": [
      "Best set of parameters for Decision tree model is : {'criterion': 'gini', 'max_features': 'sqrt', 'splitter': 'best'}\n",
      "Best score for Decision tree model is : 0.9176696690277201\n",
      "Best estimators are : DecisionTreeClassifier(max_features='sqrt')\n"
     ]
    }
   ],
   "source": [
    "print(f'Best set of parameters for Decision tree model is : {tree_grid.best_params_}')\n",
    "print(f'Best score for Decision tree model is : {tree_grid.best_score_}')\n",
    "print(f'Best estimators are : {tree_grid.best_estimator_}')"
   ]
  },
  {
   "cell_type": "code",
   "execution_count": 29,
   "id": "c38d2ccb",
   "metadata": {},
   "outputs": [
    {
     "data": {
      "text/plain": [
       "Text(0.5, 1.0, 'Difference between the predicted and actual value')"
      ]
     },
     "execution_count": 29,
     "metadata": {},
     "output_type": "execute_result"
    },
    {
     "data": {
      "image/png": "[encoded data removed]",
      "text/plain": [
       "<Figure size 360x360 with 1 Axes>"
      ]
     },
     "metadata": {
      "needs_background": "light"
     },
     "output_type": "display_data"
    }
   ],
   "source": [
    "sns.displot(y_test-tree_pred)\n",
    "plt.title('Difference between the predicted and actual value')"
   ]
  },
  {
   "cell_type": "markdown",
   "id": "6cbb2f56",
   "metadata": {},
   "source": [
    "### Random Forest"
   ]
  },
  {
   "cell_type": "code",
   "execution_count": 30,
   "id": "ce53633a",
   "metadata": {},
   "outputs": [],
   "source": [
    "forest_param = {'n_estimators' : [30,60,100,150], 'criterion':['gini', 'entropy', 'log_loss'], 'max_features':['sqrt', 'log2', None],'max_depth' : [10,15,20,25]}\n",
    "ran_forest = RandomForestClassifier()"
   ]
  },
  {
   "cell_type": "code",
   "execution_count": 31,
   "id": "d69d5ecf",
   "metadata": {},
   "outputs": [],
   "source": [
    "forest_grid = GridSearchCV(estimator = ran_forest, param_grid = forest_param, cv = 4, n_jobs = -1)"
   ]
  },
  {
   "cell_type": "code",
   "execution_count": 32,
   "id": "a55053c2",
   "metadata": {},
   "outputs": [
    {
     "name": "stderr",
     "output_type": "stream",
     "text": [
      "E:\\Ana_conda\\envs\\test\\lib\\site-packages\\sklearn\\model_selection\\_validation.py:372: FitFailedWarning: \n",
      "192 fits failed out of a total of 576.\n",
      "The score on these train-test partitions for these parameters will be set to nan.\n",
      "If these failures are not expected, you can try to debug them by setting error_score='raise'.\n",
      "\n",
      "Below are more details about the failures:\n",
      "--------------------------------------------------------------------------------\n",
      "192 fits failed with the following error:\n",
      "Traceback (most recent call last):\n",
      "  File \"E:\\Ana_conda\\envs\\test\\lib\\site-packages\\sklearn\\model_selection\\_validation.py\", line 680, in _fit_and_score\n",
      "    estimator.fit(X_train, y_train, **fit_params)\n",
      "  File \"E:\\Ana_conda\\envs\\test\\lib\\site-packages\\sklearn\\ensemble\\_forest.py\", line 450, in fit\n",
      "    trees = Parallel(\n",
      "  File \"E:\\Ana_conda\\envs\\test\\lib\\site-packages\\joblib\\parallel.py\", line 1043, in __call__\n",
      "    if self.dispatch_one_batch(iterator):\n",
      "  File \"E:\\Ana_conda\\envs\\test\\lib\\site-packages\\joblib\\parallel.py\", line 861, in dispatch_one_batch\n",
      "    self._dispatch(tasks)\n",
      "  File \"E:\\Ana_conda\\envs\\test\\lib\\site-packages\\joblib\\parallel.py\", line 779, in _dispatch\n",
      "    job = self._backend.apply_async(batch, callback=cb)\n",
      "  File \"E:\\Ana_conda\\envs\\test\\lib\\site-packages\\joblib\\_parallel_backends.py\", line 208, in apply_async\n",
      "    result = ImmediateResult(func)\n",
      "  File \"E:\\Ana_conda\\envs\\test\\lib\\site-packages\\joblib\\_parallel_backends.py\", line 572, in __init__\n",
      "    self.results = batch()\n",
      "  File \"E:\\Ana_conda\\envs\\test\\lib\\site-packages\\joblib\\parallel.py\", line 262, in __call__\n",
      "    return [func(*args, **kwargs)\n",
      "  File \"E:\\Ana_conda\\envs\\test\\lib\\site-packages\\joblib\\parallel.py\", line 262, in <listcomp>\n",
      "    return [func(*args, **kwargs)\n",
      "  File \"E:\\Ana_conda\\envs\\test\\lib\\site-packages\\sklearn\\utils\\fixes.py\", line 216, in __call__\n",
      "    return self.function(*args, **kwargs)\n",
      "  File \"E:\\Ana_conda\\envs\\test\\lib\\site-packages\\sklearn\\ensemble\\_forest.py\", line 185, in _parallel_build_trees\n",
      "    tree.fit(X, y, sample_weight=curr_sample_weight, check_input=False)\n",
      "  File \"E:\\Ana_conda\\envs\\test\\lib\\site-packages\\sklearn\\tree\\_classes.py\", line 937, in fit\n",
      "    super().fit(\n",
      "  File \"E:\\Ana_conda\\envs\\test\\lib\\site-packages\\sklearn\\tree\\_classes.py\", line 352, in fit\n",
      "    criterion = CRITERIA_CLF[self.criterion](\n",
      "KeyError: 'log_loss'\n",
      "\n",
      "  warnings.warn(some_fits_failed_message, FitFailedWarning)\n",
      "E:\\Ana_conda\\envs\\test\\lib\\site-packages\\sklearn\\model_selection\\_search.py:969: UserWarning: One or more of the test scores are non-finite: [0.9503734  0.95123382 0.95094679 0.95066009 0.95008637 0.95066009\n",
      " 0.95094712 0.95037307 0.9469304  0.94865157 0.94893827 0.94979934\n",
      " 0.95008637 0.95008637 0.95065977 0.95094679 0.95094745 0.95066009\n",
      " 0.95008604 0.95094679 0.94779115 0.94693007 0.94865157 0.94807784\n",
      " 0.94951298 0.94979934 0.94979934 0.95008604 0.94979869 0.95008571\n",
      " 0.95123349 0.95065977 0.94549592 0.94721644 0.9486519  0.94893859\n",
      " 0.95008637 0.95008637 0.94979902 0.95066009 0.94951199 0.9503734\n",
      " 0.94979934 0.95037307 0.9483652  0.94692974 0.94836487 0.94979934\n",
      " 0.95123382 0.95094712 0.95123382 0.95123382 0.95123382 0.95123382\n",
      " 0.95123382 0.95123382 0.94951265 0.95037373 0.95037307 0.95066009\n",
      " 0.95066009 0.95008604 0.95065977 0.95066009 0.94893827 0.95094712\n",
      " 0.95094646 0.95094712 0.94807784 0.94779082 0.94750478 0.9483652\n",
      " 0.9486519  0.95008637 0.9503734  0.95066042 0.94979934 0.95037307\n",
      " 0.95123382 0.95066009 0.94807784 0.94779213 0.95037274 0.94865124\n",
      " 0.95094712 0.94979869 0.95065977 0.95066009 0.95008604 0.95008637\n",
      " 0.95037274 0.95037307 0.94807817 0.94779148 0.94951232 0.9486519\n",
      "        nan        nan        nan        nan        nan        nan\n",
      "        nan        nan        nan        nan        nan        nan\n",
      "        nan        nan        nan        nan        nan        nan\n",
      "        nan        nan        nan        nan        nan        nan\n",
      "        nan        nan        nan        nan        nan        nan\n",
      "        nan        nan        nan        nan        nan        nan\n",
      "        nan        nan        nan        nan        nan        nan\n",
      "        nan        nan        nan        nan        nan        nan]\n",
      "  warnings.warn(\n"
     ]
    },
    {
     "data": {
      "text/plain": [
       "GridSearchCV(cv=4, estimator=RandomForestClassifier(), n_jobs=-1,\n",
       "             param_grid={'criterion': ['gini', 'entropy', 'log_loss'],\n",
       "                         'max_depth': [10, 15, 20, 25],\n",
       "                         'max_features': ['sqrt', 'log2', None],\n",
       "                         'n_estimators': [30, 60, 100, 150]})"
      ]
     },
     "execution_count": 32,
     "metadata": {},
     "output_type": "execute_result"
    }
   ],
   "source": [
    "forest_grid.fit(X_train_scale,y_train)"
   ]
  },
  {
   "cell_type": "code",
   "execution_count": 33,
   "id": "e5227e42",
   "metadata": {},
   "outputs": [],
   "source": [
    "forest_pred = forest_grid.predict(X_test_scale)"
   ]
  },
  {
   "cell_type": "code",
   "execution_count": 34,
   "id": "52c8c2ef",
   "metadata": {},
   "outputs": [
    {
     "data": {
      "text/plain": [
       "0.9471571906354515"
      ]
     },
     "execution_count": 34,
     "metadata": {},
     "output_type": "execute_result"
    }
   ],
   "source": [
    "accuracy_score(y_test,forest_pred)"
   ]
  },
  {
   "cell_type": "markdown",
   "id": "20f13399",
   "metadata": {},
   "source": [
    "#### Best set of Random forest Parameters for this Dataset "
   ]
  },
  {
   "cell_type": "code",
   "execution_count": 35,
   "id": "7aba9fe0",
   "metadata": {},
   "outputs": [
    {
     "name": "stdout",
     "output_type": "stream",
     "text": [
      "Best set of parameters for RF model is : {'criterion': 'gini', 'max_depth': 10, 'max_features': 'sqrt', 'n_estimators': 60}\n",
      "Best score for RF model is : 0.9512338185571789\n",
      "Best estimators are : RandomForestClassifier(max_depth=10, max_features='sqrt', n_estimators=60)\n"
     ]
    }
   ],
   "source": [
    "print(f'Best set of parameters for RF model is : {forest_grid.best_params_}')\n",
    "print(f'Best score for RF model is : {forest_grid.best_score_}')\n",
    "print(f'Best estimators are : {forest_grid.best_estimator_}')"
   ]
  },
  {
   "cell_type": "code",
   "execution_count": 36,
   "id": "88b9cfa8",
   "metadata": {},
   "outputs": [],
   "source": [
    "forest_report = classification_report(y_test,forest_pred)"
   ]
  },
  {
   "cell_type": "code",
   "execution_count": 37,
   "id": "993dec2f",
   "metadata": {},
   "outputs": [
    {
     "name": "stdout",
     "output_type": "stream",
     "text": [
      "              precision    recall  f1-score   support\n",
      "\n",
      "           0       0.95      1.00      0.97      1417\n",
      "           1       0.00      0.00      0.00        78\n",
      "\n",
      "    accuracy                           0.95      1495\n",
      "   macro avg       0.47      0.50      0.49      1495\n",
      "weighted avg       0.90      0.95      0.92      1495\n",
      "\n"
     ]
    }
   ],
   "source": [
    "print(forest_report)"
   ]
  },
  {
   "cell_type": "code",
   "execution_count": 38,
   "id": "6ace23a3",
   "metadata": {},
   "outputs": [
    {
     "name": "stdout",
     "output_type": "stream",
     "text": [
      "[[1416    1]\n",
      " [  78    0]]\n"
     ]
    }
   ],
   "source": [
    "ma = confusion_matrix(y_test,forest_pred)\n",
    "print(ma)"
   ]
  },
  {
   "cell_type": "code",
   "execution_count": 39,
   "id": "7423fe14",
   "metadata": {},
   "outputs": [
    {
     "data": {
      "text/plain": [
       "<AxesSubplot:>"
      ]
     },
     "execution_count": 39,
     "metadata": {},
     "output_type": "execute_result"
    },
    {
     "data": {
      "image/png": "[encoded data removed]",
      "text/plain": [
       "<Figure size 432x288 with 2 Axes>"
      ]
     },
     "metadata": {
      "needs_background": "light"
     },
     "output_type": "display_data"
    }
   ],
   "source": [
    "sns.heatmap(ma, annot = True, cmap = sns.color_palette(\"Greens\", 50))"
   ]
  },
  {
   "cell_type": "code",
   "execution_count": 40,
   "id": "c1f9d7a9",
   "metadata": {},
   "outputs": [
    {
     "data": {
      "text/plain": [
       "Text(0.5, 1.0, 'Difference between the predicted and actual value')"
      ]
     },
     "execution_count": 40,
     "metadata": {},
     "output_type": "execute_result"
    },
    {
     "data": {
      "image/png": "[encoded data removed]",
      "text/plain": [
       "<Figure size 360x360 with 1 Axes>"
      ]
     },
     "metadata": {
      "needs_background": "light"
     },
     "output_type": "display_data"
    }
   ],
   "source": [
    "sns.displot(y_test-forest_pred)\n",
    "plt.title('Difference between the predicted and actual value')"
   ]
  },
  {
   "cell_type": "markdown",
   "id": "961749dc",
   "metadata": {},
   "source": [
    "### From the above analysis the accuracy level of predicting a stroke through of Logistic Regression, Decision Tree Classifier and Random Forest Classifier models are acquired"
   ]
  },
  {
   "cell_type": "code",
   "execution_count": null,
   "id": "8202c0a0",
   "metadata": {},
   "outputs": [],
   "source": []
  }
 ],
 "metadata": {
  "kernelspec": {
   "display_name": "Python [conda env:test]",
   "language": "python",
   "name": "conda-env-test-py"
  },
  "language_info": {
   "codemirror_mode": {
    "name": "ipython",
    "version": 3
   },
   "file_extension": ".py",
   "mimetype": "text/x-python",
   "name": "python",
   "nbconvert_exporter": "python",
   "pygments_lexer": "ipython3",
   "version": "3.9.2"
  }
 },
 "nbformat": 4,
 "nbformat_minor": 5
}
